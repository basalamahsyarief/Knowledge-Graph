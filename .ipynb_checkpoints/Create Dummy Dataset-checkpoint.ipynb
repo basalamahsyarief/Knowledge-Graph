{
 "cells": [
  {
   "cell_type": "code",
   "execution_count": 55,
   "metadata": {},
   "outputs": [],
   "source": [
    "%matplotlib inline"
   ]
  },
  {
   "cell_type": "code",
   "execution_count": 56,
   "metadata": {},
   "outputs": [],
   "source": [
    "import torch\n",
    "import torch.nn as nn\n",
    "import torch.nn.functional as F\n",
    "from dgl import DGLGraph\n",
    "import dgl.function as fn\n",
    "from functools import partial\n",
    "import dgl"
   ]
  },
  {
   "cell_type": "code",
   "execution_count": 57,
   "metadata": {},
   "outputs": [
    {
     "name": "stdout",
     "output_type": "stream",
     "text": [
      "# entities: 14541\n",
      "# relations: 237\n",
      "# edges: 272115\n"
     ]
    }
   ],
   "source": [
    "# load graph data\n",
    "from dgl.contrib.data import load_data\n",
    "import numpy as np\n",
    "data = load_data('FB15k-237')\n",
    "num_nodes = data.num_nodes\n",
    "num_rels = data.num_rels"
   ]
  },
  {
   "cell_type": "code",
   "execution_count": 58,
   "metadata": {},
   "outputs": [
    {
     "data": {
      "text/plain": [
       "20466"
      ]
     },
     "execution_count": 58,
     "metadata": {},
     "output_type": "execute_result"
    }
   ],
   "source": [
    "len(data.test)"
   ]
  },
  {
   "cell_type": "code",
   "execution_count": 59,
   "metadata": {},
   "outputs": [],
   "source": [
    "import pandas as pd"
   ]
  },
  {
   "cell_type": "code",
   "execution_count": 60,
   "metadata": {},
   "outputs": [],
   "source": [
    "data=pd.DataFrame(data.test, columns=['source','edge','target'])"
   ]
  },
  {
   "cell_type": "code",
   "execution_count": 61,
   "metadata": {},
   "outputs": [],
   "source": [
    "edge = data['edge'].value_counts()[:8].index\n",
    "edge = pd.DataFrame(edge, columns=['edge'])\n",
    "edge['relation'] = ['INTERESTED_IN','BOOKMARK','TALK_OF','ASSUME_UNDERSTANDING_OF','WRITTEN_BY','ENCAPSULATES','SYNONYM','REPOSITORY_OF']"
   ]
  },
  {
   "cell_type": "code",
   "execution_count": 62,
   "metadata": {},
   "outputs": [],
   "source": [
    "edge_dict = dict(zip(edge.edge,edge.relation))"
   ]
  },
  {
   "cell_type": "code",
   "execution_count": 63,
   "metadata": {},
   "outputs": [
    {
     "data": {
      "text/plain": [
       "Int64Index([75, 2, 125, 108, 82, 4, 59, 111], dtype='int64')"
      ]
     },
     "execution_count": 63,
     "metadata": {},
     "output_type": "execute_result"
    }
   ],
   "source": [
    "data['edge'].value_counts()[:8].index"
   ]
  },
  {
   "cell_type": "code",
   "execution_count": 64,
   "metadata": {},
   "outputs": [],
   "source": [
    "data['edge_name'] = data.edge.map(edge_dict)"
   ]
  },
  {
   "cell_type": "code",
   "execution_count": 65,
   "metadata": {},
   "outputs": [],
   "source": [
    "data = data.dropna()"
   ]
  },
  {
   "cell_type": "code",
   "execution_count": 66,
   "metadata": {},
   "outputs": [],
   "source": [
    "inter_in = data[data.edge==75].reset_index(drop=True)\n",
    "inter_in['source_name'] = 'user_'+inter_in['source'].astype(str)\n",
    "inter_in['target_name'] = 'topic_'+inter_in['target'].astype(str)"
   ]
  },
  {
   "cell_type": "code",
   "execution_count": 67,
   "metadata": {},
   "outputs": [
    {
     "name": "stderr",
     "output_type": "stream",
     "text": [
      "C:\\Aplikasi\\Anaconda\\lib\\site-packages\\ipykernel_launcher.py:4: SettingWithCopyWarning: \n",
      "A value is trying to be set on a copy of a slice from a DataFrame.\n",
      "Try using .loc[row_indexer,col_indexer] = value instead\n",
      "\n",
      "See the caveats in the documentation: http://pandas.pydata.org/pandas-docs/stable/user_guide/indexing.html#returning-a-view-versus-a-copy\n",
      "  after removing the cwd from sys.path.\n",
      "C:\\Aplikasi\\Anaconda\\lib\\site-packages\\ipykernel_launcher.py:6: SettingWithCopyWarning: \n",
      "A value is trying to be set on a copy of a slice from a DataFrame.\n",
      "Try using .loc[row_indexer,col_indexer] = value instead\n",
      "\n",
      "See the caveats in the documentation: http://pandas.pydata.org/pandas-docs/stable/user_guide/indexing.html#returning-a-view-versus-a-copy\n",
      "  \n"
     ]
    }
   ],
   "source": [
    "bookmark = data[data.edge==2].reset_index(drop=True)\n",
    "bookmark['source_name'] = 'user_'+bookmark['source'].astype(str)\n",
    "content = bookmark[bookmark.target<5100]\n",
    "content['target_name'] = 'content_'+content['target'].astype(str)\n",
    "extRes = bookmark[bookmark.target>=5100]\n",
    "extRes['target_name'] = 'externalResources_'+extRes['target'].astype(str)\n",
    "bookmark = extRes.append(content).reset_index(drop=True)"
   ]
  },
  {
   "cell_type": "code",
   "execution_count": 68,
   "metadata": {},
   "outputs": [],
   "source": [
    "talk_of = data[data.edge==125]"
   ]
  },
  {
   "cell_type": "code",
   "execution_count": 69,
   "metadata": {},
   "outputs": [
    {
     "name": "stderr",
     "output_type": "stream",
     "text": [
      "C:\\Aplikasi\\Anaconda\\lib\\site-packages\\ipykernel_launcher.py:2: SettingWithCopyWarning: \n",
      "A value is trying to be set on a copy of a slice from a DataFrame.\n",
      "Try using .loc[row_indexer,col_indexer] = value instead\n",
      "\n",
      "See the caveats in the documentation: http://pandas.pydata.org/pandas-docs/stable/user_guide/indexing.html#returning-a-view-versus-a-copy\n",
      "  \n",
      "C:\\Aplikasi\\Anaconda\\lib\\site-packages\\ipykernel_launcher.py:3: SettingWithCopyWarning: \n",
      "A value is trying to be set on a copy of a slice from a DataFrame.\n",
      "Try using .loc[row_indexer,col_indexer] = value instead\n",
      "\n",
      "See the caveats in the documentation: http://pandas.pydata.org/pandas-docs/stable/user_guide/indexing.html#returning-a-view-versus-a-copy\n",
      "  This is separate from the ipykernel package so we can avoid doing imports until\n",
      "C:\\Aplikasi\\Anaconda\\lib\\site-packages\\ipykernel_launcher.py:5: SettingWithCopyWarning: \n",
      "A value is trying to be set on a copy of a slice from a DataFrame.\n",
      "Try using .loc[row_indexer,col_indexer] = value instead\n",
      "\n",
      "See the caveats in the documentation: http://pandas.pydata.org/pandas-docs/stable/user_guide/indexing.html#returning-a-view-versus-a-copy\n",
      "  \"\"\"\n",
      "C:\\Aplikasi\\Anaconda\\lib\\site-packages\\ipykernel_launcher.py:6: SettingWithCopyWarning: \n",
      "A value is trying to be set on a copy of a slice from a DataFrame.\n",
      "Try using .loc[row_indexer,col_indexer] = value instead\n",
      "\n",
      "See the caveats in the documentation: http://pandas.pydata.org/pandas-docs/stable/user_guide/indexing.html#returning-a-view-versus-a-copy\n",
      "  \n"
     ]
    }
   ],
   "source": [
    "content = talk_of[talk_of.source>8000]\n",
    "content['source_name'] = 'content_'+content['source'].astype(str)\n",
    "content['target_name'] = 'topic_'+content['target'].astype(str)\n",
    "thread = talk_of[talk_of.source<=8000]\n",
    "thread['source_name'] = 'thread_'+thread['source'].astype(str)\n",
    "thread['target_name'] = 'book_'+thread['target'].astype(str)\n",
    "talk_of = thread.append(content)"
   ]
  },
  {
   "cell_type": "code",
   "execution_count": 70,
   "metadata": {},
   "outputs": [
    {
     "name": "stderr",
     "output_type": "stream",
     "text": [
      "C:\\Aplikasi\\Anaconda\\lib\\site-packages\\ipykernel_launcher.py:2: SettingWithCopyWarning: \n",
      "A value is trying to be set on a copy of a slice from a DataFrame.\n",
      "Try using .loc[row_indexer,col_indexer] = value instead\n",
      "\n",
      "See the caveats in the documentation: http://pandas.pydata.org/pandas-docs/stable/user_guide/indexing.html#returning-a-view-versus-a-copy\n",
      "  \n",
      "C:\\Aplikasi\\Anaconda\\lib\\site-packages\\ipykernel_launcher.py:4: SettingWithCopyWarning: \n",
      "A value is trying to be set on a copy of a slice from a DataFrame.\n",
      "Try using .loc[row_indexer,col_indexer] = value instead\n",
      "\n",
      "See the caveats in the documentation: http://pandas.pydata.org/pandas-docs/stable/user_guide/indexing.html#returning-a-view-versus-a-copy\n",
      "  after removing the cwd from sys.path.\n",
      "C:\\Aplikasi\\Anaconda\\lib\\site-packages\\ipykernel_launcher.py:6: SettingWithCopyWarning: \n",
      "A value is trying to be set on a copy of a slice from a DataFrame.\n",
      "Try using .loc[row_indexer,col_indexer] = value instead\n",
      "\n",
      "See the caveats in the documentation: http://pandas.pydata.org/pandas-docs/stable/user_guide/indexing.html#returning-a-view-versus-a-copy\n",
      "  \n"
     ]
    }
   ],
   "source": [
    "auo = data[data.edge==108]\n",
    "auo['target_name'] = 'topic_'+auo['target'].astype(str)\n",
    "content = auo[auo.source>7000]\n",
    "content['source_name'] = 'content_'+content['source'].astype(str)\n",
    "topic = auo[auo.source<=7000]\n",
    "topic['source_name'] = 'topic_'+topic['source'].astype(str)\n",
    "auo = topic.append(content)"
   ]
  },
  {
   "cell_type": "code",
   "execution_count": 71,
   "metadata": {},
   "outputs": [
    {
     "name": "stderr",
     "output_type": "stream",
     "text": [
      "C:\\Aplikasi\\Anaconda\\lib\\site-packages\\ipykernel_launcher.py:2: SettingWithCopyWarning: \n",
      "A value is trying to be set on a copy of a slice from a DataFrame.\n",
      "Try using .loc[row_indexer,col_indexer] = value instead\n",
      "\n",
      "See the caveats in the documentation: http://pandas.pydata.org/pandas-docs/stable/user_guide/indexing.html#returning-a-view-versus-a-copy\n",
      "  \n",
      "C:\\Aplikasi\\Anaconda\\lib\\site-packages\\ipykernel_launcher.py:3: SettingWithCopyWarning: \n",
      "A value is trying to be set on a copy of a slice from a DataFrame.\n",
      "Try using .loc[row_indexer,col_indexer] = value instead\n",
      "\n",
      "See the caveats in the documentation: http://pandas.pydata.org/pandas-docs/stable/user_guide/indexing.html#returning-a-view-versus-a-copy\n",
      "  This is separate from the ipykernel package so we can avoid doing imports until\n"
     ]
    }
   ],
   "source": [
    "written_by = data[data.edge==82]\n",
    "written_by['source_name'] = 'content_'+written_by['source'].astype(str)\n",
    "written_by['target_name'] = 'user_'+written_by['target'].astype(str)"
   ]
  },
  {
   "cell_type": "code",
   "execution_count": 72,
   "metadata": {},
   "outputs": [
    {
     "name": "stderr",
     "output_type": "stream",
     "text": [
      "C:\\Aplikasi\\Anaconda\\lib\\site-packages\\ipykernel_launcher.py:2: SettingWithCopyWarning: \n",
      "A value is trying to be set on a copy of a slice from a DataFrame.\n",
      "Try using .loc[row_indexer,col_indexer] = value instead\n",
      "\n",
      "See the caveats in the documentation: http://pandas.pydata.org/pandas-docs/stable/user_guide/indexing.html#returning-a-view-versus-a-copy\n",
      "  \n",
      "C:\\Aplikasi\\Anaconda\\lib\\site-packages\\ipykernel_launcher.py:4: SettingWithCopyWarning: \n",
      "A value is trying to be set on a copy of a slice from a DataFrame.\n",
      "Try using .loc[row_indexer,col_indexer] = value instead\n",
      "\n",
      "See the caveats in the documentation: http://pandas.pydata.org/pandas-docs/stable/user_guide/indexing.html#returning-a-view-versus-a-copy\n",
      "  after removing the cwd from sys.path.\n",
      "C:\\Aplikasi\\Anaconda\\lib\\site-packages\\ipykernel_launcher.py:6: SettingWithCopyWarning: \n",
      "A value is trying to be set on a copy of a slice from a DataFrame.\n",
      "Try using .loc[row_indexer,col_indexer] = value instead\n",
      "\n",
      "See the caveats in the documentation: http://pandas.pydata.org/pandas-docs/stable/user_guide/indexing.html#returning-a-view-versus-a-copy\n",
      "  \n",
      "C:\\Aplikasi\\Anaconda\\lib\\site-packages\\ipykernel_launcher.py:8: SettingWithCopyWarning: \n",
      "A value is trying to be set on a copy of a slice from a DataFrame.\n",
      "Try using .loc[row_indexer,col_indexer] = value instead\n",
      "\n",
      "See the caveats in the documentation: http://pandas.pydata.org/pandas-docs/stable/user_guide/indexing.html#returning-a-view-versus-a-copy\n",
      "  \n"
     ]
    }
   ],
   "source": [
    "encaps = data[data.edge==4]\n",
    "encaps['source_name'] = 'library_'+encaps['source'].astype(str)\n",
    "method = encaps[encaps.target>12000]\n",
    "method['target_name'] = 'mlStatMethod_'+method.target.astype(str)\n",
    "algo = encaps[(encaps.target>4500)&(encaps.target<=12000)]\n",
    "algo['target_name'] = 'mlStatAlgo_'+algo.target.astype(str)\n",
    "metric = encaps[encaps.target<=4500]\n",
    "metric['target_name'] = 'mlStatMetric_'+metric.target.astype(str)\n",
    "encaps=metric.append([algo,method])"
   ]
  },
  {
   "cell_type": "code",
   "execution_count": 73,
   "metadata": {},
   "outputs": [
    {
     "name": "stderr",
     "output_type": "stream",
     "text": [
      "C:\\Aplikasi\\Anaconda\\lib\\site-packages\\ipykernel_launcher.py:2: SettingWithCopyWarning: \n",
      "A value is trying to be set on a copy of a slice from a DataFrame.\n",
      "Try using .loc[row_indexer,col_indexer] = value instead\n",
      "\n",
      "See the caveats in the documentation: http://pandas.pydata.org/pandas-docs/stable/user_guide/indexing.html#returning-a-view-versus-a-copy\n",
      "  \n",
      "C:\\Aplikasi\\Anaconda\\lib\\site-packages\\ipykernel_launcher.py:3: SettingWithCopyWarning: \n",
      "A value is trying to be set on a copy of a slice from a DataFrame.\n",
      "Try using .loc[row_indexer,col_indexer] = value instead\n",
      "\n",
      "See the caveats in the documentation: http://pandas.pydata.org/pandas-docs/stable/user_guide/indexing.html#returning-a-view-versus-a-copy\n",
      "  This is separate from the ipykernel package so we can avoid doing imports until\n"
     ]
    }
   ],
   "source": [
    "syn = data[data.edge==59]\n",
    "syn['source_name'] = 'topic_'+syn.source.astype(str)\n",
    "syn['target_name'] = 'topic_'+syn.target.astype(str)"
   ]
  },
  {
   "cell_type": "code",
   "execution_count": 74,
   "metadata": {},
   "outputs": [
    {
     "name": "stderr",
     "output_type": "stream",
     "text": [
      "C:\\Aplikasi\\Anaconda\\lib\\site-packages\\ipykernel_launcher.py:2: SettingWithCopyWarning: \n",
      "A value is trying to be set on a copy of a slice from a DataFrame.\n",
      "Try using .loc[row_indexer,col_indexer] = value instead\n",
      "\n",
      "See the caveats in the documentation: http://pandas.pydata.org/pandas-docs/stable/user_guide/indexing.html#returning-a-view-versus-a-copy\n",
      "  \n",
      "C:\\Aplikasi\\Anaconda\\lib\\site-packages\\ipykernel_launcher.py:3: SettingWithCopyWarning: \n",
      "A value is trying to be set on a copy of a slice from a DataFrame.\n",
      "Try using .loc[row_indexer,col_indexer] = value instead\n",
      "\n",
      "See the caveats in the documentation: http://pandas.pydata.org/pandas-docs/stable/user_guide/indexing.html#returning-a-view-versus-a-copy\n",
      "  This is separate from the ipykernel package so we can avoid doing imports until\n"
     ]
    }
   ],
   "source": [
    "rep_of = data[data.edge==59]\n",
    "rep_of['source_name'] = 'externalResources_'+syn.source.astype(str)\n",
    "rep_of['target_name'] = 'library_'+rep_of.target.astype(str)"
   ]
  },
  {
   "cell_type": "code",
   "execution_count": 75,
   "metadata": {},
   "outputs": [
    {
     "name": "stderr",
     "output_type": "stream",
     "text": [
      "C:\\Aplikasi\\Anaconda\\lib\\site-packages\\pandas\\core\\frame.py:7138: FutureWarning: Sorting because non-concatenation axis is not aligned. A future version\n",
      "of pandas will change to not sort by default.\n",
      "\n",
      "To accept the future behavior, pass 'sort=False'.\n",
      "\n",
      "To retain the current behavior and silence the warning, pass 'sort=True'.\n",
      "\n",
      "  sort=sort,\n"
     ]
    }
   ],
   "source": [
    "data = inter_in.append([bookmark,talk_of,auo,written_by,encaps,syn,rep_of]).reset_index(drop=True)"
   ]
  },
  {
   "cell_type": "code",
   "execution_count": 76,
   "metadata": {},
   "outputs": [],
   "source": [
    "data['source_type'] = [a.split('_')[0] for a in data.source_name]\n",
    "data['target_type'] = [a.split('_')[0] for a in data.target_name]"
   ]
  },
  {
   "cell_type": "code",
   "execution_count": 77,
   "metadata": {},
   "outputs": [
    {
     "data": {
      "text/html": [
       "<div>\n",
       "<style scoped>\n",
       "    .dataframe tbody tr th:only-of-type {\n",
       "        vertical-align: middle;\n",
       "    }\n",
       "\n",
       "    .dataframe tbody tr th {\n",
       "        vertical-align: top;\n",
       "    }\n",
       "\n",
       "    .dataframe thead th {\n",
       "        text-align: right;\n",
       "    }\n",
       "</style>\n",
       "<table border=\"1\" class=\"dataframe\">\n",
       "  <thead>\n",
       "    <tr style=\"text-align: right;\">\n",
       "      <th></th>\n",
       "      <th>edge</th>\n",
       "      <th>edge_name</th>\n",
       "      <th>source</th>\n",
       "      <th>source_name</th>\n",
       "      <th>target</th>\n",
       "      <th>target_name</th>\n",
       "      <th>source_type</th>\n",
       "      <th>target_type</th>\n",
       "    </tr>\n",
       "  </thead>\n",
       "  <tbody>\n",
       "    <tr>\n",
       "      <th>0</th>\n",
       "      <td>75</td>\n",
       "      <td>INTERESTED_IN</td>\n",
       "      <td>668</td>\n",
       "      <td>user_668</td>\n",
       "      <td>1499</td>\n",
       "      <td>topic_1499</td>\n",
       "      <td>user</td>\n",
       "      <td>topic</td>\n",
       "    </tr>\n",
       "    <tr>\n",
       "      <th>1</th>\n",
       "      <td>75</td>\n",
       "      <td>INTERESTED_IN</td>\n",
       "      <td>10319</td>\n",
       "      <td>user_10319</td>\n",
       "      <td>2414</td>\n",
       "      <td>topic_2414</td>\n",
       "      <td>user</td>\n",
       "      <td>topic</td>\n",
       "    </tr>\n",
       "    <tr>\n",
       "      <th>2</th>\n",
       "      <td>75</td>\n",
       "      <td>INTERESTED_IN</td>\n",
       "      <td>31</td>\n",
       "      <td>user_31</td>\n",
       "      <td>3056</td>\n",
       "      <td>topic_3056</td>\n",
       "      <td>user</td>\n",
       "      <td>topic</td>\n",
       "    </tr>\n",
       "    <tr>\n",
       "      <th>3</th>\n",
       "      <td>75</td>\n",
       "      <td>INTERESTED_IN</td>\n",
       "      <td>2471</td>\n",
       "      <td>user_2471</td>\n",
       "      <td>11898</td>\n",
       "      <td>topic_11898</td>\n",
       "      <td>user</td>\n",
       "      <td>topic</td>\n",
       "    </tr>\n",
       "    <tr>\n",
       "      <th>4</th>\n",
       "      <td>75</td>\n",
       "      <td>INTERESTED_IN</td>\n",
       "      <td>13606</td>\n",
       "      <td>user_13606</td>\n",
       "      <td>3056</td>\n",
       "      <td>topic_3056</td>\n",
       "      <td>user</td>\n",
       "      <td>topic</td>\n",
       "    </tr>\n",
       "    <tr>\n",
       "      <th>...</th>\n",
       "      <td>...</td>\n",
       "      <td>...</td>\n",
       "      <td>...</td>\n",
       "      <td>...</td>\n",
       "      <td>...</td>\n",
       "      <td>...</td>\n",
       "      <td>...</td>\n",
       "      <td>...</td>\n",
       "    </tr>\n",
       "    <tr>\n",
       "      <th>7564</th>\n",
       "      <td>59</td>\n",
       "      <td>SYNONYM</td>\n",
       "      <td>2244</td>\n",
       "      <td>externalResources_2244</td>\n",
       "      <td>5838</td>\n",
       "      <td>library_5838</td>\n",
       "      <td>externalResources</td>\n",
       "      <td>library</td>\n",
       "    </tr>\n",
       "    <tr>\n",
       "      <th>7565</th>\n",
       "      <td>59</td>\n",
       "      <td>SYNONYM</td>\n",
       "      <td>1921</td>\n",
       "      <td>externalResources_1921</td>\n",
       "      <td>7664</td>\n",
       "      <td>library_7664</td>\n",
       "      <td>externalResources</td>\n",
       "      <td>library</td>\n",
       "    </tr>\n",
       "    <tr>\n",
       "      <th>7566</th>\n",
       "      <td>59</td>\n",
       "      <td>SYNONYM</td>\n",
       "      <td>5436</td>\n",
       "      <td>externalResources_5436</td>\n",
       "      <td>7977</td>\n",
       "      <td>library_7977</td>\n",
       "      <td>externalResources</td>\n",
       "      <td>library</td>\n",
       "    </tr>\n",
       "    <tr>\n",
       "      <th>7567</th>\n",
       "      <td>59</td>\n",
       "      <td>SYNONYM</td>\n",
       "      <td>5436</td>\n",
       "      <td>externalResources_5436</td>\n",
       "      <td>13770</td>\n",
       "      <td>library_13770</td>\n",
       "      <td>externalResources</td>\n",
       "      <td>library</td>\n",
       "    </tr>\n",
       "    <tr>\n",
       "      <th>7568</th>\n",
       "      <td>59</td>\n",
       "      <td>SYNONYM</td>\n",
       "      <td>9293</td>\n",
       "      <td>externalResources_9293</td>\n",
       "      <td>7410</td>\n",
       "      <td>library_7410</td>\n",
       "      <td>externalResources</td>\n",
       "      <td>library</td>\n",
       "    </tr>\n",
       "  </tbody>\n",
       "</table>\n",
       "<p>7569 rows × 8 columns</p>\n",
       "</div>"
      ],
      "text/plain": [
       "      edge      edge_name  source             source_name  target  \\\n",
       "0       75  INTERESTED_IN     668                user_668    1499   \n",
       "1       75  INTERESTED_IN   10319              user_10319    2414   \n",
       "2       75  INTERESTED_IN      31                 user_31    3056   \n",
       "3       75  INTERESTED_IN    2471               user_2471   11898   \n",
       "4       75  INTERESTED_IN   13606              user_13606    3056   \n",
       "...    ...            ...     ...                     ...     ...   \n",
       "7564    59        SYNONYM    2244  externalResources_2244    5838   \n",
       "7565    59        SYNONYM    1921  externalResources_1921    7664   \n",
       "7566    59        SYNONYM    5436  externalResources_5436    7977   \n",
       "7567    59        SYNONYM    5436  externalResources_5436   13770   \n",
       "7568    59        SYNONYM    9293  externalResources_9293    7410   \n",
       "\n",
       "        target_name        source_type target_type  \n",
       "0        topic_1499               user       topic  \n",
       "1        topic_2414               user       topic  \n",
       "2        topic_3056               user       topic  \n",
       "3       topic_11898               user       topic  \n",
       "4        topic_3056               user       topic  \n",
       "...             ...                ...         ...  \n",
       "7564   library_5838  externalResources     library  \n",
       "7565   library_7664  externalResources     library  \n",
       "7566   library_7977  externalResources     library  \n",
       "7567  library_13770  externalResources     library  \n",
       "7568   library_7410  externalResources     library  \n",
       "\n",
       "[7569 rows x 8 columns]"
      ]
     },
     "execution_count": 77,
     "metadata": {},
     "output_type": "execute_result"
    }
   ],
   "source": [
    "data"
   ]
  },
  {
   "cell_type": "code",
   "execution_count": 78,
   "metadata": {},
   "outputs": [],
   "source": [
    "for a,b in enumerate(data.values):\n",
    "    if data.source_type.at[a]=='user':\n",
    "        data.source.at[a]=0\n",
    "        data.source_name.at[a]='user_0'\n",
    "    elif data.target_type.at[a]=='user':\n",
    "        data.target.at[a]=0\n",
    "        data.target_name='user_0'"
   ]
  },
  {
   "cell_type": "code",
   "execution_count": 97,
   "metadata": {},
   "outputs": [],
   "source": [
    "type_node = set(np.concatenate([data.source_name.unique(),data.target_name.unique()]))\n",
    "type_node = sorted(type_node)"
   ]
  },
  {
   "cell_type": "code",
   "execution_count": 98,
   "metadata": {},
   "outputs": [],
   "source": [
    "type_node=pd.DataFrame(type_node,columns=['nodes'])\n",
    "type_node = dict(type_node.nodes)\n",
    "type_node = {v: k for k, v in type_node.items()}"
   ]
  },
  {
   "cell_type": "code",
   "execution_count": 103,
   "metadata": {},
   "outputs": [],
   "source": [
    "data.source = data.source_name.map(type_node)\n",
    "data.target = data.target_name.map(type_node)"
   ]
  },
  {
   "cell_type": "code",
   "execution_count": 121,
   "metadata": {},
   "outputs": [],
   "source": [
    "type_edge = sorted(data.edge_name.unique())"
   ]
  },
  {
   "cell_type": "code",
   "execution_count": 122,
   "metadata": {},
   "outputs": [],
   "source": [
    "type_edge=pd.DataFrame(type_edge,columns=['edges'])\n",
    "type_edge = dict(type_edge.edges)\n",
    "type_edge = {v: k for k, v in type_edge.items()}\n",
    "data.edge = data.edge_name.map(type_edge)"
   ]
  },
  {
   "cell_type": "code",
   "execution_count": 123,
   "metadata": {},
   "outputs": [],
   "source": [
    "data[['source','edge','target','source_name','edge_name','target_name']].to_csv('sample_dataset_learnavi.csv')"
   ]
  },
  {
   "cell_type": "code",
   "execution_count": 124,
   "metadata": {},
   "outputs": [
    {
     "data": {
      "text/html": [
       "<div>\n",
       "<style scoped>\n",
       "    .dataframe tbody tr th:only-of-type {\n",
       "        vertical-align: middle;\n",
       "    }\n",
       "\n",
       "    .dataframe tbody tr th {\n",
       "        vertical-align: top;\n",
       "    }\n",
       "\n",
       "    .dataframe thead th {\n",
       "        text-align: right;\n",
       "    }\n",
       "</style>\n",
       "<table border=\"1\" class=\"dataframe\">\n",
       "  <thead>\n",
       "    <tr style=\"text-align: right;\">\n",
       "      <th></th>\n",
       "      <th>edge</th>\n",
       "      <th>edge_name</th>\n",
       "      <th>source</th>\n",
       "      <th>source_name</th>\n",
       "      <th>target</th>\n",
       "      <th>target_name</th>\n",
       "      <th>source_type</th>\n",
       "      <th>target_type</th>\n",
       "    </tr>\n",
       "  </thead>\n",
       "  <tbody>\n",
       "    <tr>\n",
       "      <th>0</th>\n",
       "      <td>3</td>\n",
       "      <td>INTERESTED_IN</td>\n",
       "      <td>2511</td>\n",
       "      <td>user_0</td>\n",
       "      <td>2511</td>\n",
       "      <td>user_0</td>\n",
       "      <td>user</td>\n",
       "      <td>topic</td>\n",
       "    </tr>\n",
       "    <tr>\n",
       "      <th>1</th>\n",
       "      <td>3</td>\n",
       "      <td>INTERESTED_IN</td>\n",
       "      <td>2511</td>\n",
       "      <td>user_0</td>\n",
       "      <td>2511</td>\n",
       "      <td>user_0</td>\n",
       "      <td>user</td>\n",
       "      <td>topic</td>\n",
       "    </tr>\n",
       "    <tr>\n",
       "      <th>2</th>\n",
       "      <td>3</td>\n",
       "      <td>INTERESTED_IN</td>\n",
       "      <td>2511</td>\n",
       "      <td>user_0</td>\n",
       "      <td>2511</td>\n",
       "      <td>user_0</td>\n",
       "      <td>user</td>\n",
       "      <td>topic</td>\n",
       "    </tr>\n",
       "    <tr>\n",
       "      <th>3</th>\n",
       "      <td>3</td>\n",
       "      <td>INTERESTED_IN</td>\n",
       "      <td>2511</td>\n",
       "      <td>user_0</td>\n",
       "      <td>2511</td>\n",
       "      <td>user_0</td>\n",
       "      <td>user</td>\n",
       "      <td>topic</td>\n",
       "    </tr>\n",
       "    <tr>\n",
       "      <th>4</th>\n",
       "      <td>3</td>\n",
       "      <td>INTERESTED_IN</td>\n",
       "      <td>2511</td>\n",
       "      <td>user_0</td>\n",
       "      <td>2511</td>\n",
       "      <td>user_0</td>\n",
       "      <td>user</td>\n",
       "      <td>topic</td>\n",
       "    </tr>\n",
       "    <tr>\n",
       "      <th>...</th>\n",
       "      <td>...</td>\n",
       "      <td>...</td>\n",
       "      <td>...</td>\n",
       "      <td>...</td>\n",
       "      <td>...</td>\n",
       "      <td>...</td>\n",
       "      <td>...</td>\n",
       "      <td>...</td>\n",
       "    </tr>\n",
       "    <tr>\n",
       "      <th>7564</th>\n",
       "      <td>4</td>\n",
       "      <td>SYNONYM</td>\n",
       "      <td>1121</td>\n",
       "      <td>externalResources_2244</td>\n",
       "      <td>2511</td>\n",
       "      <td>user_0</td>\n",
       "      <td>externalResources</td>\n",
       "      <td>library</td>\n",
       "    </tr>\n",
       "    <tr>\n",
       "      <th>7565</th>\n",
       "      <td>4</td>\n",
       "      <td>SYNONYM</td>\n",
       "      <td>1115</td>\n",
       "      <td>externalResources_1921</td>\n",
       "      <td>2511</td>\n",
       "      <td>user_0</td>\n",
       "      <td>externalResources</td>\n",
       "      <td>library</td>\n",
       "    </tr>\n",
       "    <tr>\n",
       "      <th>7566</th>\n",
       "      <td>4</td>\n",
       "      <td>SYNONYM</td>\n",
       "      <td>1169</td>\n",
       "      <td>externalResources_5436</td>\n",
       "      <td>2511</td>\n",
       "      <td>user_0</td>\n",
       "      <td>externalResources</td>\n",
       "      <td>library</td>\n",
       "    </tr>\n",
       "    <tr>\n",
       "      <th>7567</th>\n",
       "      <td>4</td>\n",
       "      <td>SYNONYM</td>\n",
       "      <td>1169</td>\n",
       "      <td>externalResources_5436</td>\n",
       "      <td>2511</td>\n",
       "      <td>user_0</td>\n",
       "      <td>externalResources</td>\n",
       "      <td>library</td>\n",
       "    </tr>\n",
       "    <tr>\n",
       "      <th>7568</th>\n",
       "      <td>4</td>\n",
       "      <td>SYNONYM</td>\n",
       "      <td>1229</td>\n",
       "      <td>externalResources_9293</td>\n",
       "      <td>2511</td>\n",
       "      <td>user_0</td>\n",
       "      <td>externalResources</td>\n",
       "      <td>library</td>\n",
       "    </tr>\n",
       "  </tbody>\n",
       "</table>\n",
       "<p>7569 rows × 8 columns</p>\n",
       "</div>"
      ],
      "text/plain": [
       "      edge      edge_name  source             source_name  target target_name  \\\n",
       "0        3  INTERESTED_IN    2511                  user_0    2511      user_0   \n",
       "1        3  INTERESTED_IN    2511                  user_0    2511      user_0   \n",
       "2        3  INTERESTED_IN    2511                  user_0    2511      user_0   \n",
       "3        3  INTERESTED_IN    2511                  user_0    2511      user_0   \n",
       "4        3  INTERESTED_IN    2511                  user_0    2511      user_0   \n",
       "...    ...            ...     ...                     ...     ...         ...   \n",
       "7564     4        SYNONYM    1121  externalResources_2244    2511      user_0   \n",
       "7565     4        SYNONYM    1115  externalResources_1921    2511      user_0   \n",
       "7566     4        SYNONYM    1169  externalResources_5436    2511      user_0   \n",
       "7567     4        SYNONYM    1169  externalResources_5436    2511      user_0   \n",
       "7568     4        SYNONYM    1229  externalResources_9293    2511      user_0   \n",
       "\n",
       "            source_type target_type  \n",
       "0                  user       topic  \n",
       "1                  user       topic  \n",
       "2                  user       topic  \n",
       "3                  user       topic  \n",
       "4                  user       topic  \n",
       "...                 ...         ...  \n",
       "7564  externalResources     library  \n",
       "7565  externalResources     library  \n",
       "7566  externalResources     library  \n",
       "7567  externalResources     library  \n",
       "7568  externalResources     library  \n",
       "\n",
       "[7569 rows x 8 columns]"
      ]
     },
     "execution_count": 124,
     "metadata": {},
     "output_type": "execute_result"
    }
   ],
   "source": [
    "data"
   ]
  },
  {
   "cell_type": "code",
   "execution_count": 120,
   "metadata": {},
   "outputs": [
    {
     "data": {
      "text/plain": [
       "0       3\n",
       "1       3\n",
       "2       3\n",
       "3       3\n",
       "4       3\n",
       "       ..\n",
       "7564    4\n",
       "7565    4\n",
       "7566    4\n",
       "7567    4\n",
       "7568    4\n",
       "Name: edge_name, Length: 7569, dtype: int64"
      ]
     },
     "execution_count": 120,
     "metadata": {},
     "output_type": "execute_result"
    }
   ],
   "source": [
    "data.edge_name.map(type_edge)"
   ]
  },
  {
   "cell_type": "code",
   "execution_count": null,
   "metadata": {},
   "outputs": [],
   "source": []
  }
 ],
 "metadata": {
  "kernelspec": {
   "display_name": "Python 3",
   "language": "python",
   "name": "python3"
  },
  "language_info": {
   "codemirror_mode": {
    "name": "ipython",
    "version": 3
   },
   "file_extension": ".py",
   "mimetype": "text/x-python",
   "name": "python",
   "nbconvert_exporter": "python",
   "pygments_lexer": "ipython3",
   "version": "3.6.6"
  }
 },
 "nbformat": 4,
 "nbformat_minor": 1
}
