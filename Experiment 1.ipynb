{
 "cells": [
  {
   "cell_type": "code",
   "execution_count": 31,
   "metadata": {},
   "outputs": [],
   "source": [
    "import numpy as np\n",
    "import torch\n",
    "import torch.nn as nn\n",
    "import torch.nn.functional as F\n",
    "from time import time\n",
    "from torch.autograd import Variable\n",
    "from sklearn.utils import shuffle as skshuffle\n",
    "from sklearn.metrics import roc_auc_score"
   ]
  },
  {
   "cell_type": "code",
   "execution_count": 32,
   "metadata": {},
   "outputs": [],
   "source": [
    "def get_minibatches(X, mb_size, shuffle=True):\n",
    "    minibatches = []\n",
    "    X_shuff = np.copy(X)\n",
    "\n",
    "    if shuffle:\n",
    "        X_shuff = skshuffle(X_shuff)\n",
    "\n",
    "    for i in range(0, X_shuff.shape[0], mb_size):\n",
    "        yield X_shuff[i:i + mb_size]\n",
    "\n",
    "def sample_negatives(X, n_e):\n",
    "    M = X.shape[0]\n",
    "\n",
    "    corr = np.random.randint(n_e, size=M)\n",
    "    e_idxs = np.random.choice([0, 2], size=M)\n",
    "\n",
    "    X_corr = np.copy(X)\n",
    "    X_corr[np.arange(M), e_idxs] = corr\n",
    "\n",
    "    return X_corr\n",
    "\n",
    "def accuracy(y_pred, y_true, thresh=0.5, reverse=False):\n",
    "    y = (y_pred >= thresh) if not reverse else (y_pred <= thresh)\n",
    "    return np.mean(y == y_true)\n",
    "\n",
    "def auc(y_pred, y_true):\n",
    "    return roc_auc_score(y_true, y_pred)"
   ]
  },
  {
   "cell_type": "code",
   "execution_count": 58,
   "metadata": {},
   "outputs": [],
   "source": [
    "class RESCAL(nn.Module):\n",
    "    \"\"\"\n",
    "    RESCAL: bilinear model\n",
    "    ----------------------\n",
    "    Nickel, Maximilian, Volker Tresp, and Hans-Peter Kriegel.\n",
    "    \"A three-way model for collective learning on multi-relational data.\"\n",
    "    ICML. 2011.\n",
    "    \"\"\"\n",
    "\n",
    "    def __init__(self, n_e, n_r, k, lam, gpu=False):\n",
    "        \"\"\"\n",
    "        RESCAL: bilinear model\n",
    "        ----------------------\n",
    "\n",
    "        Params:\n",
    "        -------\n",
    "            n_e: int\n",
    "                Number of entities in dataset.\n",
    "\n",
    "            n_r: int\n",
    "                Number of relationships in dataset.\n",
    "\n",
    "            k: int\n",
    "                Embedding size.\n",
    "\n",
    "            lam: float\n",
    "                Prior strength of the embeddings. Used to constaint the\n",
    "                embedding norms inside a (euclidean) unit ball. The prior is\n",
    "                Gaussian, this param is the precision.\n",
    "\n",
    "            gpu: bool, default: False\n",
    "                Whether to use GPU or not.\n",
    "        \"\"\"\n",
    "        super(RESCAL, self).__init__()\n",
    "        self.gpu = gpu\n",
    "        # Hyperparams\n",
    "        self.n_e = n_e\n",
    "        self.n_r = n_r\n",
    "        self.k = k\n",
    "        self.lam = lam\n",
    "\n",
    "        # Nets\n",
    "        self.emb_E = nn.Embedding(self.n_e, self.k)\n",
    "        self.emb_R = nn.Embedding(self.n_r, self.k**2)\n",
    "\n",
    "        self.embeddings = [self.emb_E, self.emb_R]\n",
    "        self.initialize_embeddings()\n",
    "\n",
    "        # Copy all params to GPU if specified\n",
    "        if self.gpu:\n",
    "            self.cuda()\n",
    "\n",
    "    def forward(self, X):\n",
    "        # Decompose X into head, relationship, tail\n",
    "        hs, ls, ts = X[:, 0], X[:, 1], X[:, 2]\n",
    "\n",
    "        if self.gpu:\n",
    "            hs = Variable(torch.from_numpy(hs).cuda())\n",
    "            ls = Variable(torch.from_numpy(ls).cuda())\n",
    "            ts = Variable(torch.from_numpy(ts).cuda())\n",
    "        else:\n",
    "            hs = Variable(torch.from_numpy(hs))\n",
    "            ls = Variable(torch.from_numpy(ls))\n",
    "            ts = Variable(torch.from_numpy(ts))\n",
    "\n",
    "        # Project to embedding, each is M x k\n",
    "        e_hs = self.emb_E(hs).view(-1, self.k, 1)\n",
    "        e_ts = self.emb_E(ts).view(-1, self.k, 1)\n",
    "        W = self.emb_R(ls).view(-1, self.k, self.k)  # M x k x k\n",
    "\n",
    "        # Forward\n",
    "        out = torch.bmm(torch.transpose(e_hs, 1, 2), W)  # h^T W\n",
    "        out = torch.bmm(out, e_ts)  # (h^T W) h\n",
    "        out = out.view(-1, 1)  # [-1, 1, 1] -> [-1, 1]\n",
    "\n",
    "        return out\n",
    "    \n",
    "    def log_loss(self, y_pred, y_true, average=True):\n",
    "        \"\"\"\n",
    "        Compute log loss (Bernoulli NLL).\n",
    "\n",
    "        Params:\n",
    "        -------\n",
    "        y_pred: vector of size Mx1\n",
    "            Contains prediction logits.\n",
    "\n",
    "        y_true: np.array of size Mx1 (binary)\n",
    "            Contains the true labels.\n",
    "\n",
    "        average: bool, default: True\n",
    "            Whether to average the loss or just summing it.\n",
    "\n",
    "        Returns:\n",
    "        --------\n",
    "        loss: float\n",
    "        \"\"\"\n",
    "        if self.gpu:\n",
    "            y_true = Variable(torch.from_numpy(y_true.astype(np.float32)).cuda())\n",
    "        else:\n",
    "            y_true = Variable(torch.from_numpy(y_true.astype(np.float32)))\n",
    "\n",
    "        nll = F.binary_cross_entropy_with_logits(y_pred, y_true, reduction='mean')\n",
    "\n",
    "        norm_E = torch.norm(self.emb_E.weight, 2, 1)\n",
    "        norm_R = torch.norm(self.emb_R.weight, 2, 1)\n",
    "\n",
    "        # Penalize when embeddings norms larger than one\n",
    "        nlp1 = torch.sum(torch.clamp(norm_E - 1, min=0)).unsqueeze(0)\n",
    "        nlp2 = torch.sum(torch.clamp(norm_R - 1, min=0)).unsqueeze(0)\n",
    "        \n",
    "        if average:\n",
    "            nlp1 /= nlp1.size(0)\n",
    "            nlp2 /= nlp2.size(0)\n",
    "\n",
    "        return nll + self.lam*nlp1 + self.lam*nlp2  \n",
    "    \n",
    "    def predict(self, X, sigmoid=False):\n",
    "        \"\"\"\n",
    "        Predict the score of test batch.\n",
    "\n",
    "        Params:\n",
    "        -------\n",
    "        X: int matrix of M x 3, where M is the (mini)batch size\n",
    "            First row contains index of head entities.\n",
    "            Second row contains index of relationships.\n",
    "            Third row contains index of tail entities.\n",
    "\n",
    "        sigmoid: bool, default: False\n",
    "            Whether to apply sigmoid at the prediction or not. Useful if the\n",
    "            predicted result is scores/logits.\n",
    "\n",
    "        Returns:\n",
    "        --------\n",
    "        y_pred: np.array of Mx1\n",
    "        \"\"\"\n",
    "        sigm = nn.Sigmoid()\n",
    "        y_pred = self.forward(X).view(-1, 1)\n",
    "\n",
    "        if sigmoid:\n",
    "            y_pred = sigm(y_pred)\n",
    "\n",
    "        if self.gpu:\n",
    "            return y_pred.cpu().data.numpy()\n",
    "        else:\n",
    "            return y_pred.data.numpy()\n",
    "        \n",
    "    def normalize_embeddings(self):\n",
    "        for e in self.embeddings:\n",
    "            e.weight.data.renorm_(p=2, dim=0, maxnorm=1)\n",
    "            \n",
    "    def initialize_embeddings(self):\n",
    "        r = 6/np.sqrt(self.k)\n",
    "        for e in self.embeddings:\n",
    "            e.weight.data.uniform_(-r, r)\n",
    "\n",
    "        self.normalize_embeddings()\n",
    "    \n",
    "    def get_embeddings(self):\n",
    "        entity_embedding = self.embeddings[0].weight.data.numpy()\n",
    "        relation_embedding = self.embeddings[1].weight.data.numpy()\n",
    "        return entity_embedding, relation_embedding"
   ]
  },
  {
   "cell_type": "code",
   "execution_count": 59,
   "metadata": {},
   "outputs": [
    {
     "data": {
      "text/plain": [
       "<torch._C.Generator at 0x1e50023c970>"
      ]
     },
     "execution_count": 59,
     "metadata": {},
     "output_type": "execute_result"
    }
   ],
   "source": [
    "# Set random seed\n",
    "randseed = 9999\n",
    "np.random.seed(randseed)\n",
    "torch.manual_seed(randseed)"
   ]
  },
  {
   "cell_type": "code",
   "execution_count": 60,
   "metadata": {},
   "outputs": [],
   "source": [
    "# Data Loading\n",
    "# Load dictionary lookups\n",
    "idx2ent = np.load('data/kinship/bin/idx2ent.npy')\n",
    "idx2rel = np.load('data/kinship/bin/idx2rel.npy')\n",
    "\n",
    "n_e = len(idx2ent)\n",
    "n_r = len(idx2rel)\n",
    "\n",
    "# Load dataset\n",
    "X_train = np.load('data/kinship/bin/train.npy')\n",
    "X_val = np.load('data/kinship/bin/val.npy')\n",
    "y_val = np.load('data/kinship/bin/y_val.npy')\n",
    "\n",
    "X_val_pos = X_val[y_val.ravel() == 1, :]  # Take only positive samples\n",
    "\n",
    "M_train = X_train.shape[0]\n",
    "M_val = X_val.shape[0]\n",
    "\n",
    "# Model Parameters\n",
    "k = 50\n",
    "embeddings_lambda = 0\n",
    "model = RESCAL(n_e=n_e, n_r=n_r, k=k, lam=embeddings_lambda, gpu= False)"
   ]
  },
  {
   "cell_type": "code",
   "execution_count": 61,
   "metadata": {
    "scrolled": true
   },
   "outputs": [
    {
     "name": "stdout",
     "output_type": "stream",
     "text": [
      "Epoch-1\n",
      "----------------\n",
      "Iter-0; loss: 0.6929; train_auc: 0.4984; val_auc: 0.5043; val_loss: 0.6932; time per batch: 0.02s\n",
      "Epoch-2\n",
      "----------------\n",
      "Iter-0; loss: 0.6927; train_auc: 0.5354; val_auc: 0.5052; val_loss: 0.6932; time per batch: 0.02s\n",
      "Epoch-3\n",
      "----------------\n",
      "Iter-0; loss: 0.6926; train_auc: 0.5525; val_auc: 0.5050; val_loss: 0.6932; time per batch: 0.03s\n",
      "Epoch-4\n",
      "----------------\n",
      "Iter-0; loss: 0.6920; train_auc: 0.5832; val_auc: 0.5054; val_loss: 0.6932; time per batch: 0.03s\n",
      "Epoch-5\n",
      "----------------\n",
      "Iter-0; loss: 0.6908; train_auc: 0.6431; val_auc: 0.5108; val_loss: 0.6931; time per batch: 0.02s\n",
      "Epoch-6\n",
      "----------------\n",
      "Iter-0; loss: 0.6899; train_auc: 0.6727; val_auc: 0.5184; val_loss: 0.6930; time per batch: 0.02s\n",
      "Epoch-7\n",
      "----------------\n",
      "Iter-0; loss: 0.6898; train_auc: 0.6636; val_auc: 0.5300; val_loss: 0.6927; time per batch: 0.03s\n",
      "Epoch-8\n",
      "----------------\n",
      "Iter-0; loss: 0.6894; train_auc: 0.6890; val_auc: 0.5500; val_loss: 0.6923; time per batch: 0.03s\n",
      "Epoch-9\n",
      "----------------\n",
      "Iter-0; loss: 0.6875; train_auc: 0.7616; val_auc: 0.5737; val_loss: 0.6918; time per batch: 0.02s\n",
      "Epoch-10\n",
      "----------------\n",
      "Iter-0; loss: 0.6845; train_auc: 0.8304; val_auc: 0.6081; val_loss: 0.6909; time per batch: 0.03s\n",
      "Epoch-11\n",
      "----------------\n",
      "Iter-0; loss: 0.6841; train_auc: 0.7934; val_auc: 0.6490; val_loss: 0.6898; time per batch: 0.02s\n",
      "Epoch-12\n",
      "----------------\n",
      "Iter-0; loss: 0.6838; train_auc: 0.8247; val_auc: 0.6995; val_loss: 0.6882; time per batch: 0.03s\n",
      "Epoch-13\n",
      "----------------\n",
      "Iter-0; loss: 0.6826; train_auc: 0.8103; val_auc: 0.7541; val_loss: 0.6859; time per batch: 0.02s\n",
      "Epoch-14\n",
      "----------------\n",
      "Iter-0; loss: 0.6778; train_auc: 0.8825; val_auc: 0.8091; val_loss: 0.6828; time per batch: 0.02s\n",
      "Epoch-15\n",
      "----------------\n",
      "Iter-0; loss: 0.6713; train_auc: 0.9141; val_auc: 0.8589; val_loss: 0.6784; time per batch: 0.02s\n",
      "Epoch-16\n",
      "----------------\n",
      "Iter-0; loss: 0.6668; train_auc: 0.8917; val_auc: 0.8960; val_loss: 0.6726; time per batch: 0.02s\n",
      "Epoch-17\n",
      "----------------\n",
      "Iter-0; loss: 0.6643; train_auc: 0.8730; val_auc: 0.9169; val_loss: 0.6649; time per batch: 0.03s\n",
      "Epoch-18\n",
      "----------------\n",
      "Iter-0; loss: 0.6513; train_auc: 0.8851; val_auc: 0.9259; val_loss: 0.6553; time per batch: 0.03s\n",
      "Epoch-19\n",
      "----------------\n",
      "Iter-0; loss: 0.6424; train_auc: 0.8988; val_auc: 0.9276; val_loss: 0.6439; time per batch: 0.03s\n",
      "Epoch-20\n",
      "----------------\n",
      "Iter-0; loss: 0.6345; train_auc: 0.8552; val_auc: 0.9259; val_loss: 0.6316; time per batch: 0.02s\n"
     ]
    }
   ],
   "source": [
    "normalize_embed = True\n",
    "C = 10 # Negative Samples\n",
    "n_epoch = 20\n",
    "lr = 0.1\n",
    "lr_decay_every = 20\n",
    "#weight_decay = 1e-4\n",
    "mb_size = 100  # 2x with negative sampling\n",
    "print_every = 100\n",
    "# Optimizer Initialization\n",
    "#solver = torch.optim.Adam(model.parameters(), lr=lr, weight_decay=weight_decay)\n",
    "solver = torch.optim.SGD(model.parameters(), lr=lr, momentum=0.9)\n",
    "act_func = nn.Sigmoid()\n",
    "# Begin training\n",
    "for epoch in range(n_epoch):\n",
    "    print('Epoch-{}'.format(epoch+1))\n",
    "    print('----------------')\n",
    "    it = 0\n",
    "    # Shuffle and chunk data into minibatches\n",
    "    mb_iter = get_minibatches(X_train, mb_size, shuffle=True)\n",
    "\n",
    "    # Anneal learning rate\n",
    "    lr = lr * (0.5 ** (epoch // lr_decay_every))\n",
    "    for param_group in solver.param_groups:\n",
    "        param_group['lr'] = lr\n",
    "\n",
    "    for X_mb in mb_iter:\n",
    "        start = time()\n",
    "\n",
    "        # Build batch with negative sampling\n",
    "        m = X_mb.shape[0]\n",
    "        # C x M negative samples\n",
    "        X_neg_mb = sample_negatives(X_mb, n_e)\n",
    "        X_train_mb = np.vstack([X_mb, X_neg_mb])\n",
    "\n",
    "        y_true_mb = np.vstack([np.ones([m, 1]), np.zeros([m, 1])])\n",
    "\n",
    "        # Training step\n",
    "        y = model.forward(X_train_mb)\n",
    "        loss = model.log_loss(y, y_true_mb, average=True)\n",
    "        loss.backward()\n",
    "        solver.step()\n",
    "        solver.zero_grad()\n",
    "        if normalize_embed:\n",
    "            model.normalize_embeddings()\n",
    "\n",
    "        end = time()\n",
    "        # Training logs\n",
    "        if it % print_every == 0:\n",
    "            # Training auc\n",
    "            pred = model.predict(X_train_mb, sigmoid=True)\n",
    "            train_acc = auc(pred, y_true_mb)\n",
    "            \n",
    "            # Per class accuracy\n",
    "            # pos_acc = accuracy(pred[:m], y_true_mb[:m])\n",
    "            # neg_acc = accuracy(pred[m:], y_true_mb[m:])\n",
    "\n",
    "            # Validation auc\n",
    "            y_pred_val = model.forward(X_val)\n",
    "            y_prob_val = act_func(y_pred_val)\n",
    "            \n",
    "            val_acc = auc(y_prob_val.data.numpy(), y_val)\n",
    "            # Validation loss\n",
    "            val_loss = model.log_loss(y_pred_val, y_val, True)\n",
    "\n",
    "            print('Iter-{}; loss: {:.4f}; train_auc: {:.4f}; val_auc: {:.4f}; val_loss: {:.4f}; time per batch: {:.2f}s'\n",
    "                    .format(it, loss.data[0], train_acc, val_acc, val_loss.data[0], end-start))\n",
    "\n",
    "        it += 1"
   ]
  },
  {
   "cell_type": "code",
   "execution_count": 62,
   "metadata": {},
   "outputs": [],
   "source": [
    "entity_embedding, relation_embedding = model.get_embeddings()"
   ]
  },
  {
   "cell_type": "code",
   "execution_count": 64,
   "metadata": {},
   "outputs": [
    {
     "data": {
      "text/plain": [
       "(array([[ 0.19046573, -0.24831256,  0.14665966, ...,  0.0051994 ,\n",
       "          0.23626441,  0.20533168],\n",
       "        [-0.02195207, -0.14481546,  0.00521847, ...,  0.0118028 ,\n",
       "          0.15299565, -0.00339364],\n",
       "        [ 0.03419591,  0.22134429, -0.07165182, ..., -0.00971326,\n",
       "         -0.1378213 , -0.22741874],\n",
       "        ...,\n",
       "        [-0.00441023,  0.09881721,  0.22227971, ..., -0.23410249,\n",
       "         -0.00936928, -0.1533014 ],\n",
       "        [-0.11788324,  0.10937518, -0.02970175, ..., -0.00390624,\n",
       "          0.03130096,  0.21994837],\n",
       "        [-0.14308794, -0.00674381, -0.23864774, ...,  0.11063214,\n",
       "          0.11025032,  0.18311264]], dtype=float32),\n",
       " array([[ 4.6508089e-03, -1.8950835e-02,  1.2297976e-03, ...,\n",
       "         -7.6297419e-03,  2.2179214e-02,  5.5967936e-05],\n",
       "        [-1.7321285e-02,  2.2365838e-02, -9.6984422e-03, ...,\n",
       "          2.8035937e-02,  4.8606765e-02,  5.3122532e-02],\n",
       "        [ 4.8496920e-04,  1.5385617e-02, -1.2678771e-02, ...,\n",
       "          2.8514996e-02,  3.5518799e-02,  4.6381630e-02],\n",
       "        ...,\n",
       "        [ 6.8383873e-02, -2.3106636e-02, -4.0862005e-04, ...,\n",
       "         -1.3048038e-02,  2.7258663e-02,  7.2620712e-02],\n",
       "        [-2.2161786e-02,  2.2044407e-02,  3.5763241e-02, ...,\n",
       "         -7.4401852e-03,  1.1896001e-02,  2.2767045e-02],\n",
       "        [ 3.1643905e-02, -1.7068043e-02,  1.8549969e-02, ...,\n",
       "         -6.4943237e-03,  2.6714889e-02, -2.6667453e-02]], dtype=float32))"
      ]
     },
     "execution_count": 64,
     "metadata": {},
     "output_type": "execute_result"
    }
   ],
   "source": [
    "entity_embedding, relation_embedding"
   ]
  },
  {
   "cell_type": "markdown",
   "metadata": {},
   "source": [
    "## Visualization of Latent Representation\n",
    "\n",
    "In this part we will use a very powerful visualization technique: T-SNE (t-Distributed stochastic neighbor embedding). T-SNE helps in visualizing embeddings in 2 or 3 dimensions. It is a nonlinear dimensionality reduction technique. It embeds high dimensional representation into lower dimension in such a way that similar objects are mapped to nearby points and distant objects are mapped to distant points. The algorithm is non linear and adapts to the underlying data, performing different transformations on different regions. It comes with a tueneable parameter perplexity which balances attention between local and global aspects of data.\n",
    "\n",
    "For further details on algorithm refer to: \n",
    "[Visualizing Data using t-SNE](http://www.jmlr.org/papers/volume9/vandermaaten08a/vandermaaten08a.pdf)\n",
    "\n"
   ]
  },
  {
   "cell_type": "code",
   "execution_count": 65,
   "metadata": {},
   "outputs": [
    {
     "name": "stdout",
     "output_type": "stream",
     "text": [
      "[t-SNE] Computing 103 nearest neighbors...\n",
      "[t-SNE] Indexed 104 samples in 0.001s...\n",
      "[t-SNE] Computed neighbors for 104 samples in 0.009s...\n",
      "[t-SNE] Computed conditional probabilities for sample 104 / 104\n",
      "[t-SNE] Mean sigma: 0.652809\n",
      "[t-SNE] KL divergence after 250 iterations with early exaggeration: 49.416664\n",
      "[t-SNE] KL divergence after 300 iterations: 0.157307\n",
      "[t-SNE] Computing 25 nearest neighbors...\n",
      "[t-SNE] Indexed 26 samples in 0.001s...\n",
      "[t-SNE] Computed neighbors for 26 samples in 0.008s...\n",
      "[t-SNE] Computed conditional probabilities for sample 26 / 26\n",
      "[t-SNE] Mean sigma: 1125899906842624.000000\n",
      "[t-SNE] KL divergence after 250 iterations with early exaggeration: 45.125401\n",
      "[t-SNE] KL divergence after 300 iterations: 0.518900\n"
     ]
    }
   ],
   "source": [
    "import matplotlib.pyplot as plt\n",
    "from sklearn.manifold import TSNE\n",
    "\n",
    "tsne = TSNE(n_components=2, verbose=1, perplexity=40, n_iter=300)\n",
    "tsne_entity = tsne.fit_transform(entity_embedding)\n",
    "tsne_relation = tsne.fit_transform(relation_embedding)"
   ]
  },
  {
   "cell_type": "code",
   "execution_count": 66,
   "metadata": {},
   "outputs": [
    {
     "data": {
      "image/png": "[encoded data removed]",
      "text/plain": [
       "<Figure size 432x288 with 1 Axes>"
      ]
     },
     "metadata": {
      "needs_background": "light"
     },
     "output_type": "display_data"
    }
   ],
   "source": [
    "plt.scatter(tsne_entity[:,0],tsne_entity[:,1])\n",
    "plt.xlabel('Latent Value-1')\n",
    "plt.ylabel('Latent Value-2')\n",
    "plt.title('Latent Representation Entities')\n",
    "plt.show()"
   ]
  },
  {
   "cell_type": "code",
   "execution_count": 67,
   "metadata": {},
   "outputs": [
    {
     "data": {
      "image/png": "[encoded data removed]",
      "text/plain": [
       "<Figure size 432x288 with 1 Axes>"
      ]
     },
     "metadata": {
      "needs_background": "light"
     },
     "output_type": "display_data"
    }
   ],
   "source": [
    "plt.scatter(tsne_relation[:,0],tsne_relation[:,1])\n",
    "plt.xlabel('Latent Value-1')\n",
    "plt.ylabel('Latent Value-2')\n",
    "plt.title('Latent Representation Relations')\n",
    "plt.show()"
   ]
  },
  {
   "cell_type": "code",
   "execution_count": 68,
   "metadata": {},
   "outputs": [
    {
     "data": {
      "text/plain": [
       "array([[39,  0, 80],\n",
       "       [91, 23, 91],\n",
       "       [77, 15, 24],\n",
       "       ...,\n",
       "       [ 4,  9, 76],\n",
       "       [95, 17,  6],\n",
       "       [40, 17, 74]], dtype=int64)"
      ]
     },
     "execution_count": 68,
     "metadata": {},
     "output_type": "execute_result"
    }
   ],
   "source": [
    "X_val"
   ]
  },
  {
   "cell_type": "code",
   "execution_count": 69,
   "metadata": {},
   "outputs": [
    {
     "data": {
      "text/plain": [
       "array([[1.],\n",
       "       [1.],\n",
       "       [1.],\n",
       "       ...,\n",
       "       [0.],\n",
       "       [0.],\n",
       "       [0.]])"
      ]
     },
     "execution_count": 69,
     "metadata": {},
     "output_type": "execute_result"
    }
   ],
   "source": [
    "y_val"
   ]
  },
  {
   "cell_type": "code",
   "execution_count": 72,
   "metadata": {},
   "outputs": [
    {
     "data": {
      "text/plain": [
       "tensor([[ 0.3014],\n",
       "        [ 0.1912],\n",
       "        [ 0.3023],\n",
       "        ...,\n",
       "        [-0.1173],\n",
       "        [ 0.1274],\n",
       "        [-0.1730]], grad_fn=<ViewBackward>)"
      ]
     },
     "execution_count": 72,
     "metadata": {},
     "output_type": "execute_result"
    }
   ],
   "source": [
    "model(X_val)"
   ]
  },
  {
   "cell_type": "code",
   "execution_count": null,
   "metadata": {},
   "outputs": [],
   "source": []
  }
 ],
 "metadata": {
  "kernelspec": {
   "display_name": "Python 3",
   "language": "python",
   "name": "python3"
  }
 },
 "nbformat": 4,
 "nbformat_minor": 2
}
